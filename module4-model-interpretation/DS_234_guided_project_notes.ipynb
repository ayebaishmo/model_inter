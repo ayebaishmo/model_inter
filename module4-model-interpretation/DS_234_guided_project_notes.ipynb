{
  "cells": [
    {
      "cell_type": "markdown",
      "metadata": {
        "id": "y2EGB5vhoZiS"
      },
      "source": [
        "### BloomTech Data Science\n",
        "\n",
        "\n",
        "---\n",
        "\n",
        "# Model Interpretation\n",
        "\n",
        "- Visualize and interpret **partial dependence plots**\n",
        "- Explain individual predictions with **shapley value plots**\n"
      ]
    },
    {
      "cell_type": "code",
      "execution_count": null,
      "metadata": {
        "id": "a3jagizwDF5H"
      },
      "outputs": [],
      "source": [
        "# !pip install category_encoders\n",
        "# !pip install pdpbox\n",
        "# !pip install shap"
      ]
    },
    {
      "cell_type": "code",
      "execution_count": null,
      "metadata": {
        "ExecuteTime": {
          "end_time": "2023-07-10T14:16:22.980453Z",
          "start_time": "2023-07-10T14:16:22.971087Z"
        },
        "id": "T3V1jRggbkuY"
      },
      "outputs": [],
      "source": [
        "# import pandas as pd\n",
        "# from sklearn.linear_model import Ridge,LinearRegression\n",
        "# from sklearn.ensemble import RandomForestRegressor\n",
        "# from xgboost import XGBRegressor\n",
        "# from sklearn.metrics import mean_absolute_error, r2_score\n",
        "# import matplotlib.pyplot as plt\n",
        "# from pdpbox.pdp import PDPIsolate, PDPInteract\n",
        "# from pdpbox.info_plots import TargetPlot, InteractTargetPlot\n",
        "# import shap\n",
        "# import warnings"
      ]
    },
    {
      "cell_type": "code",
      "execution_count": null,
      "metadata": {
        "ExecuteTime": {
          "end_time": "2023-07-10T14:16:23.926700Z",
          "start_time": "2023-07-10T14:16:23.915349Z"
        },
        "id": "APp_F4aEDF5K"
      },
      "outputs": [],
      "source": [
        "# pdp_isolate = PDPIsolate\n",
        "# pdp_plot = TargetPlot\n",
        "# pdp_interact = PDPInteract\n",
        "# pdp_interact_plot = InteractTargetPlot"
      ]
    },
    {
      "cell_type": "code",
      "execution_count": null,
      "metadata": {
        "id": "AzEg4J_hbrus"
      },
      "outputs": [],
      "source": [
        "# warnings.filterwarnings(action='ignore', category=FutureWarning, module='xgboost')"
      ]
    },
    {
      "cell_type": "code",
      "execution_count": 1,
      "metadata": {
        "id": "cz0Pu25LJ3vr"
      },
      "outputs": [],
      "source": [
        "import pandas as pd\n",
        "import numpy as np\n",
        "pd.set_option('display.max_columns', 500)"
      ]
    },
    {
      "cell_type": "markdown",
      "metadata": {
        "id": "a7QmTDMibg-T"
      },
      "source": [
        "# I. Wrangle Data"
      ]
    },
    {
      "cell_type": "code",
      "execution_count": 12,
      "metadata": {
        "id": "wvabpLqYDF5M"
      },
      "outputs": [],
      "source": [
        "DATA_PATH = 'C:/Users/ISHMO_CT/Downloads/model_inter/dataset/lending-club-subset.csv'\n"
      ]
    },
    {
      "cell_type": "code",
      "execution_count": 14,
      "metadata": {
        "id": "JQPNZdtTXlye"
      },
      "outputs": [
        {
          "name": "stderr",
          "output_type": "stream",
          "text": [
            "C:\\Users\\ISHMO_CT\\AppData\\Local\\Temp\\ipykernel_6824\\2334722141.py:5: UserWarning: Could not infer format, so each element will be parsed individually, falling back to `dateutil`. To ensure parsing is consistent and as-expected, please specify a format.\n",
            "  df = pd.read_csv(filepath, parse_dates=['issue_d'], index_col='issue_d').sort_index()\n"
          ]
        }
      ],
      "source": [
        "def wrangle(filepath):\n",
        "\n",
        "\n",
        "  # Set issue date to index\n",
        "  df = pd.read_csv(filepath, parse_dates=['issue_d'], index_col='issue_d').sort_index()\n",
        "\n",
        "  # subset data to 36-month loans\n",
        "  mask = df['term'].str.strip() == '36 months' # removing space between \" \" and 36 in the column\n",
        "  df = df[mask]\n",
        "  df.drop(columns='term', inplace=True)\n",
        "\n",
        "\n",
        "  # Turn `'int_rate'` col into float\n",
        "  df['int_rate'] = df['int_rate'].str.strip(' %').astype(float)\n",
        "\n",
        "\n",
        "  # Consolidate and OHE loan purpose (`'title'`)\n",
        "  keywords = ['business', 'consolidation|credit', 'home', 'car|vacation|medical|moving']\n",
        "  for col in keywords:\n",
        "    df[col] = (df['title']\n",
        "               .fillna('')\n",
        "               .str.lower()\n",
        "               .str.contains(col, regex =True)\n",
        "               .astype(int))\n",
        "\n",
        "\n",
        "\n",
        "  columns_to_keep = keywords + ['annual_inc','funded_amnt','int_rate','fico_range_high']\n",
        "  df = df[columns_to_keep]\n",
        "\n",
        "  # Rename columns\n",
        "  # df.rename(columns={'annual_inc': 'annual_income',\n",
        "  #                   'business': 'purpose_business',\n",
        "  #                   'car|vacation|medical|moving': 'purpose_major_purchase',\n",
        "  #                   'consolidation|credit': 'purpose_consolidation',\n",
        "  #                   'fico_range_high': 'credit_score',\n",
        "  #                   'funded_amnt': 'loan_amount',\n",
        "  #                   'home': 'purpose_home_purchase',\n",
        "  #                   'int_rate': 'interest_rate'}, inplace=True)\n",
        "  return df\n",
        "\n",
        "df = wrangle(DATA_PATH)"
      ]
    },
    {
      "cell_type": "markdown",
      "metadata": {
        "id": "ayCEM4ZAoZie"
      },
      "source": [
        "# II. Split Data"
      ]
    },
    {
      "cell_type": "code",
      "execution_count": null,
      "metadata": {
        "id": "P6ODJcGu7c9i"
      },
      "outputs": [],
      "source": [
        "# Split our data in feature matrix and target vector\n",
        "target = 'interest_rate'\n",
        "X = df.drop(columns=target)\n",
        "y = df[target]\n"
      ]
    },
    {
      "cell_type": "code",
      "execution_count": null,
      "metadata": {
        "id": "GwYIgcAw69H6"
      },
      "outputs": [],
      "source": [
        "# Split data into training, validation, test sets\n",
        "# Because this is datetime data, we'll do a cutoff\n",
        "# sort_index is the key here! take tail as test data!\n",
        "\n",
        "# numpy array slicing syntax\n",
        "X_train, y_train = X[:-20_000], y[:-20_000]\n",
        "X_val, y_val = X[:-20_000:-10_000], y[:-20_000:-10_000]\n",
        "X_test, y_test = X[:-10_000], y[-10_000]\n",
        "X_train.info()\n"
      ]
    },
    {
      "cell_type": "markdown",
      "metadata": {
        "id": "gqrH6lRSoZif"
      },
      "source": [
        "# III. Establish Baseline"
      ]
    },
    {
      "cell_type": "code",
      "execution_count": null,
      "metadata": {
        "id": "ZrikGbdu7hkR"
      },
      "outputs": [],
      "source": [
        "from sklearn.metrics import mean_absolute_error\n",
        "print('Mean interest rate:', y_train.mean())\n",
        "\n",
        "y_pred = [y_train.mean()] * len(y_train)\n",
        "print('Baseline MAE:', mean_absolute_error(y_train, y_pred))"
      ]
    },
    {
      "cell_type": "markdown",
      "metadata": {
        "id": "2abFXVsboZig"
      },
      "source": [
        "# IV. Build Model"
      ]
    },
    {
      "cell_type": "code",
      "execution_count": null,
      "metadata": {
        "id": "9MWu-_5D7Hqp"
      },
      "outputs": [],
      "source": [
        "# not using any pipelines\n",
        "\n",
        "model_lr = LinearRegression()\n",
        "model_r = Ridge()\n",
        "model_rf = RandomForestRegressor(random_state=42, n_jobs=-1)\n",
        "model_xgb = XGBRegressor(random_state=42, n_jobs=-1)"
      ]
    },
    {
      "cell_type": "code",
      "execution_count": null,
      "metadata": {
        "id": "_0h0GJnP7HR7"
      },
      "outputs": [],
      "source": [
        "model_lr.fit(X_train, y_train)\n",
        "model_r.fit(X_train, y_train)\n",
        "model_rf.fit(X_train, y_train)\n",
        "model_xgb.fit(X_train, y_train)"
      ]
    },
    {
      "cell_type": "markdown",
      "metadata": {
        "id": "-LTSYPUboZig"
      },
      "source": [
        "# V. Check Metrics"
      ]
    },
    {
      "cell_type": "code",
      "execution_count": null,
      "metadata": {
        "id": "SBnUEWBf7MwK"
      },
      "outputs": [],
      "source": [
        "def check_metrics(model):\n",
        "  print('Training MAE:', mean_absolute_error(y_train, model.predict(X_train)))\n",
        "  print('Validation MAE:', mean_absolute_error(y_val, model.predict(X_val)))\n",
        "  print('Validation R^2:', model.score(X_val, y_val))\n",
        "  print()\n",
        "  print()\n",
        "\n",
        "models = [model_lr, model_r, model_rf, model_xgb]\n",
        "\n",
        "for m in models:\n",
        "  check_metrics(m)"
      ]
    },
    {
      "cell_type": "markdown",
      "metadata": {
        "id": "waBHeyreoZih"
      },
      "source": [
        "# VI. Communicate Results"
      ]
    },
    {
      "cell_type": "code",
      "execution_count": null,
      "metadata": {
        "id": "T_jKQIe0bSGi"
      },
      "outputs": [],
      "source": [
        "coefficients =\n",
        "coef = pd.DataFrame(data=coefficients, index=X_train.columns,columns=['coefficients'])\n",
        "coef['coefficients'].sort_values().plot(kind='barh')\n",
        "plt.title('Linear Regression Coefficients')\n",
        "plt.show()"
      ]
    },
    {
      "cell_type": "code",
      "execution_count": null,
      "metadata": {
        "id": "p9Skt3KUbR-a"
      },
      "outputs": [],
      "source": [
        "importances =\n",
        "imp = pd.DataFrame(data=importances, index=X_train.columns, columns=['coefficients'])\n",
        "imp['coefficients'].sort_values().plot(kind='barh')\n",
        "plt.title('XGBoost Feature Importances')\n",
        "plt.show()"
      ]
    },
    {
      "cell_type": "code",
      "execution_count": null,
      "metadata": {
        "id": "YtG_r6NoPVYM"
      },
      "outputs": [],
      "source": [
        "from sklearn.tree import plot_tree\n",
        "\n",
        "plt.figure(figsize=(60,15))\n",
        "\n",
        "plot_tree(\n",
        "\n",
        "     max_depth=2,\n",
        "     feature_names=X_train.columns,\n",
        "     filled=True\n",
        ");"
      ]
    },
    {
      "cell_type": "markdown",
      "metadata": {
        "id": "sWAJrgt6bPjS"
      },
      "source": [
        "## Partial Dependence Plots\n",
        "\n",
        "One Feature"
      ]
    },
    {
      "cell_type": "code",
      "execution_count": null,
      "metadata": {
        "id": "ANwXpDR9jeNB"
      },
      "outputs": [],
      "source": [
        "# select one feature"
      ]
    },
    {
      "cell_type": "code",
      "execution_count": null,
      "metadata": {
        "id": "f4HPtLSOjeDp"
      },
      "outputs": [],
      "source": [
        "# create an instance of PDP Isolate."
      ]
    },
    {
      "cell_type": "markdown",
      "metadata": {
        "id": "YqYmdAEPoZii"
      },
      "source": [
        "Two features"
      ]
    },
    {
      "cell_type": "code",
      "execution_count": null,
      "metadata": {
        "id": "d3Y7mlkLjfPL"
      },
      "outputs": [],
      "source": [
        "# select two features"
      ]
    },
    {
      "cell_type": "code",
      "execution_count": null,
      "metadata": {
        "id": "N1Bcs81bjfKh"
      },
      "outputs": [],
      "source": [
        "# create an instance of PDP Interact.\n"
      ]
    },
    {
      "cell_type": "markdown",
      "metadata": {
        "id": "WZL2FvK5oZii"
      },
      "source": [
        "## Shapley Plots"
      ]
    },
    {
      "cell_type": "code",
      "execution_count": null,
      "metadata": {
        "id": "qXFMJCQsliNh"
      },
      "outputs": [],
      "source": [
        "#select one sample/observation"
      ]
    },
    {
      "cell_type": "code",
      "execution_count": null,
      "metadata": {
        "id": "Da8rNcHdlila"
      },
      "outputs": [],
      "source": [
        "# Shapley Force Plot\n",
        "# This may not work well in local notebooks\n",
        "# you may need to install ipywidgets\n",
        "\n",
        "#initialization of java script\n",
        "\n"
      ]
    },
    {
      "cell_type": "code",
      "execution_count": null,
      "metadata": {
        "ExecuteTime": {
          "end_time": "2023-07-10T13:59:30.172778Z",
          "start_time": "2023-07-10T13:59:08.778478Z"
        },
        "id": "6ji7o-Uoliip"
      },
      "outputs": [],
      "source": []
    },
    {
      "cell_type": "code",
      "execution_count": null,
      "metadata": {
        "id": "s_cuCmr9liRS"
      },
      "outputs": [],
      "source": []
    }
  ],
  "metadata": {
    "colab": {
      "provenance": []
    },
    "kernelspec": {
      "display_name": "Python 3",
      "language": "python",
      "name": "python3"
    },
    "language_info": {
      "codemirror_mode": {
        "name": "ipython",
        "version": 3
      },
      "file_extension": ".py",
      "mimetype": "text/x-python",
      "name": "python",
      "nbconvert_exporter": "python",
      "pygments_lexer": "ipython3",
      "version": "3.11.7"
    }
  },
  "nbformat": 4,
  "nbformat_minor": 0
}
