{
  "cells": [
    {
      "cell_type": "markdown",
      "metadata": {
        "id": "y2EGB5vhoZiS"
      },
      "source": [
        "### BloomTech Data Science\n",
        "\n",
        "\n",
        "---\n",
        "\n",
        "# Model Interpretation\n",
        "\n",
        "- Visualize and interpret **partial dependence plots**\n",
        "- Explain individual predictions with **shapley value plots**\n"
      ]
    },
    {
      "cell_type": "code",
      "execution_count": null,
      "metadata": {
        "id": "a3jagizwDF5H"
      },
      "outputs": [],
      "source": [
        "# !pip install category_encoders\n",
        "# !pip install pdpbox\n",
        "# !pip install shap"
      ]
    },
    {
      "cell_type": "code",
      "execution_count": null,
      "metadata": {
        "ExecuteTime": {
          "end_time": "2023-07-10T14:16:22.980453Z",
          "start_time": "2023-07-10T14:16:22.971087Z"
        },
        "id": "T3V1jRggbkuY"
      },
      "outputs": [],
      "source": [
        "# import pandas as pd\n",
        "# from sklearn.linear_model import Ridge,LinearRegression\n",
        "# from sklearn.ensemble import RandomForestRegressor\n",
        "# from xgboost import XGBRegressor\n",
        "# from sklearn.metrics import mean_absolute_error, r2_score\n",
        "# import matplotlib.pyplot as plt\n",
        "# from pdpbox.pdp import PDPIsolate, PDPInteract\n",
        "# from pdpbox.info_plots import TargetPlot, InteractTargetPlot\n",
        "# import shap\n",
        "# import warnings"
      ]
    },
    {
      "cell_type": "code",
      "execution_count": null,
      "metadata": {
        "ExecuteTime": {
          "end_time": "2023-07-10T14:16:23.926700Z",
          "start_time": "2023-07-10T14:16:23.915349Z"
        },
        "id": "APp_F4aEDF5K"
      },
      "outputs": [],
      "source": [
        "# pdp_isolate = PDPIsolate\n",
        "# pdp_plot = TargetPlot\n",
        "# pdp_interact = PDPInteract\n",
        "# pdp_interact_plot = InteractTargetPlot"
      ]
    },
    {
      "cell_type": "code",
      "execution_count": null,
      "metadata": {
        "id": "AzEg4J_hbrus"
      },
      "outputs": [],
      "source": [
        "# warnings.filterwarnings(action='ignore', category=FutureWarning, module='xgboost')"
      ]
    },
    {
      "cell_type": "code",
      "execution_count": 1,
      "metadata": {
        "id": "cz0Pu25LJ3vr"
      },
      "outputs": [],
      "source": [
        "import pandas as pd\n",
        "import numpy as np\n",
        "pd.set_option('display.max_columns', 500)"
      ]
    },
    {
      "cell_type": "markdown",
      "metadata": {
        "id": "a7QmTDMibg-T"
      },
      "source": [
        "# I. Wrangle Data"
      ]
    },
    {
      "cell_type": "code",
      "execution_count": 3,
      "metadata": {
        "id": "wvabpLqYDF5M"
      },
      "outputs": [],
      "source": [
        "DATA_PATH = 'https://raw.githubusercontent.com/bloominstituteoftechnology/DS-Unit-2-Applied-Modeling/master/data/'\n"
      ]
    },
    {
      "cell_type": "code",
      "execution_count": 5,
      "metadata": {
        "id": "JQPNZdtTXlye"
      },
      "outputs": [
        {
          "ename": "ValueError",
          "evalue": "Missing column provided to 'parse_dates': 'issued'",
          "output_type": "error",
          "traceback": [
            "\u001b[1;31m---------------------------------------------------------------------------\u001b[0m",
            "\u001b[1;31mValueError\u001b[0m                                Traceback (most recent call last)",
            "Cell \u001b[1;32mIn[5], line 42\u001b[0m\n\u001b[0;32m     31\u001b[0m   \u001b[38;5;66;03m# Rename columns\u001b[39;00m\n\u001b[0;32m     32\u001b[0m   \u001b[38;5;66;03m# df.rename(columns={'annual_inc': 'annual_income',\u001b[39;00m\n\u001b[0;32m     33\u001b[0m   \u001b[38;5;66;03m#                   'business': 'purpose_business',\u001b[39;00m\n\u001b[1;32m   (...)\u001b[0m\n\u001b[0;32m     38\u001b[0m   \u001b[38;5;66;03m#                   'home': 'purpose_home_purchase',\u001b[39;00m\n\u001b[0;32m     39\u001b[0m   \u001b[38;5;66;03m#                   'int_rate': 'interest_rate'}, inplace=True)\u001b[39;00m\n\u001b[0;32m     40\u001b[0m   \u001b[38;5;28;01mreturn\u001b[39;00m df\n\u001b[1;32m---> 42\u001b[0m df \u001b[38;5;241m=\u001b[39m \u001b[43mwrangle\u001b[49m\u001b[43m(\u001b[49m\u001b[43mDATA_PATH\u001b[49m\u001b[38;5;241;43m+\u001b[39;49m\u001b[38;5;124;43m'\u001b[39;49m\u001b[38;5;124;43mlending-club/lending-club-subset.csv\u001b[39;49m\u001b[38;5;124;43m'\u001b[39;49m\u001b[43m)\u001b[49m\n",
            "Cell \u001b[1;32mIn[5], line 5\u001b[0m, in \u001b[0;36mwrangle\u001b[1;34m(filepath)\u001b[0m\n\u001b[0;32m      1\u001b[0m \u001b[38;5;28;01mdef\u001b[39;00m \u001b[38;5;21mwrangle\u001b[39m(filepath):\n\u001b[0;32m      2\u001b[0m \n\u001b[0;32m      3\u001b[0m \n\u001b[0;32m      4\u001b[0m   \u001b[38;5;66;03m# Set issue date to index\u001b[39;00m\n\u001b[1;32m----> 5\u001b[0m   df \u001b[38;5;241m=\u001b[39m \u001b[43mpd\u001b[49m\u001b[38;5;241;43m.\u001b[39;49m\u001b[43mread_csv\u001b[49m\u001b[43m(\u001b[49m\u001b[43mfilepath\u001b[49m\u001b[43m,\u001b[49m\u001b[43m \u001b[49m\u001b[43mparse_dates\u001b[49m\u001b[38;5;241;43m=\u001b[39;49m\u001b[43m[\u001b[49m\u001b[38;5;124;43m'\u001b[39;49m\u001b[38;5;124;43missued\u001b[39;49m\u001b[38;5;124;43m'\u001b[39;49m\u001b[43m]\u001b[49m\u001b[43m,\u001b[49m\u001b[43m \u001b[49m\u001b[43mindex_col\u001b[49m\u001b[38;5;241;43m=\u001b[39;49m\u001b[38;5;124;43m'\u001b[39;49m\u001b[38;5;124;43missued\u001b[39;49m\u001b[38;5;124;43m'\u001b[39;49m\u001b[43m)\u001b[49m\u001b[38;5;241m.\u001b[39msort_index()\n\u001b[0;32m      7\u001b[0m   \u001b[38;5;66;03m# subset data to 36-month loans\u001b[39;00m\n\u001b[0;32m      8\u001b[0m   mask \u001b[38;5;241m=\u001b[39m df[\u001b[38;5;124m'\u001b[39m\u001b[38;5;124mterm\u001b[39m\u001b[38;5;124m'\u001b[39m]\u001b[38;5;241m.\u001b[39mstr\u001b[38;5;241m.\u001b[39mstrip() \u001b[38;5;241m==\u001b[39m \u001b[38;5;124m'\u001b[39m\u001b[38;5;124m36 months\u001b[39m\u001b[38;5;124m'\u001b[39m \u001b[38;5;66;03m# removing space between \" \" and 36 in the column\u001b[39;00m\n",
            "File \u001b[1;32mc:\\Users\\ISHMO_CT\\.conda\\envs\\Kaggle_proj\\Lib\\site-packages\\pandas\\io\\parsers\\readers.py:948\u001b[0m, in \u001b[0;36mread_csv\u001b[1;34m(filepath_or_buffer, sep, delimiter, header, names, index_col, usecols, dtype, engine, converters, true_values, false_values, skipinitialspace, skiprows, skipfooter, nrows, na_values, keep_default_na, na_filter, verbose, skip_blank_lines, parse_dates, infer_datetime_format, keep_date_col, date_parser, date_format, dayfirst, cache_dates, iterator, chunksize, compression, thousands, decimal, lineterminator, quotechar, quoting, doublequote, escapechar, comment, encoding, encoding_errors, dialect, on_bad_lines, delim_whitespace, low_memory, memory_map, float_precision, storage_options, dtype_backend)\u001b[0m\n\u001b[0;32m    935\u001b[0m kwds_defaults \u001b[38;5;241m=\u001b[39m _refine_defaults_read(\n\u001b[0;32m    936\u001b[0m     dialect,\n\u001b[0;32m    937\u001b[0m     delimiter,\n\u001b[1;32m   (...)\u001b[0m\n\u001b[0;32m    944\u001b[0m     dtype_backend\u001b[38;5;241m=\u001b[39mdtype_backend,\n\u001b[0;32m    945\u001b[0m )\n\u001b[0;32m    946\u001b[0m kwds\u001b[38;5;241m.\u001b[39mupdate(kwds_defaults)\n\u001b[1;32m--> 948\u001b[0m \u001b[38;5;28;01mreturn\u001b[39;00m \u001b[43m_read\u001b[49m\u001b[43m(\u001b[49m\u001b[43mfilepath_or_buffer\u001b[49m\u001b[43m,\u001b[49m\u001b[43m \u001b[49m\u001b[43mkwds\u001b[49m\u001b[43m)\u001b[49m\n",
            "File \u001b[1;32mc:\\Users\\ISHMO_CT\\.conda\\envs\\Kaggle_proj\\Lib\\site-packages\\pandas\\io\\parsers\\readers.py:611\u001b[0m, in \u001b[0;36m_read\u001b[1;34m(filepath_or_buffer, kwds)\u001b[0m\n\u001b[0;32m    608\u001b[0m _validate_names(kwds\u001b[38;5;241m.\u001b[39mget(\u001b[38;5;124m\"\u001b[39m\u001b[38;5;124mnames\u001b[39m\u001b[38;5;124m\"\u001b[39m, \u001b[38;5;28;01mNone\u001b[39;00m))\n\u001b[0;32m    610\u001b[0m \u001b[38;5;66;03m# Create the parser.\u001b[39;00m\n\u001b[1;32m--> 611\u001b[0m parser \u001b[38;5;241m=\u001b[39m \u001b[43mTextFileReader\u001b[49m\u001b[43m(\u001b[49m\u001b[43mfilepath_or_buffer\u001b[49m\u001b[43m,\u001b[49m\u001b[43m \u001b[49m\u001b[38;5;241;43m*\u001b[39;49m\u001b[38;5;241;43m*\u001b[39;49m\u001b[43mkwds\u001b[49m\u001b[43m)\u001b[49m\n\u001b[0;32m    613\u001b[0m \u001b[38;5;28;01mif\u001b[39;00m chunksize \u001b[38;5;129;01mor\u001b[39;00m iterator:\n\u001b[0;32m    614\u001b[0m     \u001b[38;5;28;01mreturn\u001b[39;00m parser\n",
            "File \u001b[1;32mc:\\Users\\ISHMO_CT\\.conda\\envs\\Kaggle_proj\\Lib\\site-packages\\pandas\\io\\parsers\\readers.py:1448\u001b[0m, in \u001b[0;36mTextFileReader.__init__\u001b[1;34m(self, f, engine, **kwds)\u001b[0m\n\u001b[0;32m   1445\u001b[0m     \u001b[38;5;28mself\u001b[39m\u001b[38;5;241m.\u001b[39moptions[\u001b[38;5;124m\"\u001b[39m\u001b[38;5;124mhas_index_names\u001b[39m\u001b[38;5;124m\"\u001b[39m] \u001b[38;5;241m=\u001b[39m kwds[\u001b[38;5;124m\"\u001b[39m\u001b[38;5;124mhas_index_names\u001b[39m\u001b[38;5;124m\"\u001b[39m]\n\u001b[0;32m   1447\u001b[0m \u001b[38;5;28mself\u001b[39m\u001b[38;5;241m.\u001b[39mhandles: IOHandles \u001b[38;5;241m|\u001b[39m \u001b[38;5;28;01mNone\u001b[39;00m \u001b[38;5;241m=\u001b[39m \u001b[38;5;28;01mNone\u001b[39;00m\n\u001b[1;32m-> 1448\u001b[0m \u001b[38;5;28mself\u001b[39m\u001b[38;5;241m.\u001b[39m_engine \u001b[38;5;241m=\u001b[39m \u001b[38;5;28;43mself\u001b[39;49m\u001b[38;5;241;43m.\u001b[39;49m\u001b[43m_make_engine\u001b[49m\u001b[43m(\u001b[49m\u001b[43mf\u001b[49m\u001b[43m,\u001b[49m\u001b[43m \u001b[49m\u001b[38;5;28;43mself\u001b[39;49m\u001b[38;5;241;43m.\u001b[39;49m\u001b[43mengine\u001b[49m\u001b[43m)\u001b[49m\n",
            "File \u001b[1;32mc:\\Users\\ISHMO_CT\\.conda\\envs\\Kaggle_proj\\Lib\\site-packages\\pandas\\io\\parsers\\readers.py:1723\u001b[0m, in \u001b[0;36mTextFileReader._make_engine\u001b[1;34m(self, f, engine)\u001b[0m\n\u001b[0;32m   1720\u001b[0m     \u001b[38;5;28;01mraise\u001b[39;00m \u001b[38;5;167;01mValueError\u001b[39;00m(msg)\n\u001b[0;32m   1722\u001b[0m \u001b[38;5;28;01mtry\u001b[39;00m:\n\u001b[1;32m-> 1723\u001b[0m     \u001b[38;5;28;01mreturn\u001b[39;00m \u001b[43mmapping\u001b[49m\u001b[43m[\u001b[49m\u001b[43mengine\u001b[49m\u001b[43m]\u001b[49m\u001b[43m(\u001b[49m\u001b[43mf\u001b[49m\u001b[43m,\u001b[49m\u001b[43m \u001b[49m\u001b[38;5;241;43m*\u001b[39;49m\u001b[38;5;241;43m*\u001b[39;49m\u001b[38;5;28;43mself\u001b[39;49m\u001b[38;5;241;43m.\u001b[39;49m\u001b[43moptions\u001b[49m\u001b[43m)\u001b[49m\n\u001b[0;32m   1724\u001b[0m \u001b[38;5;28;01mexcept\u001b[39;00m \u001b[38;5;167;01mException\u001b[39;00m:\n\u001b[0;32m   1725\u001b[0m     \u001b[38;5;28;01mif\u001b[39;00m \u001b[38;5;28mself\u001b[39m\u001b[38;5;241m.\u001b[39mhandles \u001b[38;5;129;01mis\u001b[39;00m \u001b[38;5;129;01mnot\u001b[39;00m \u001b[38;5;28;01mNone\u001b[39;00m:\n",
            "File \u001b[1;32mc:\\Users\\ISHMO_CT\\.conda\\envs\\Kaggle_proj\\Lib\\site-packages\\pandas\\io\\parsers\\c_parser_wrapper.py:161\u001b[0m, in \u001b[0;36mCParserWrapper.__init__\u001b[1;34m(self, src, **kwds)\u001b[0m\n\u001b[0;32m    155\u001b[0m         \u001b[38;5;28mself\u001b[39m\u001b[38;5;241m.\u001b[39m_validate_usecols_names(\n\u001b[0;32m    156\u001b[0m             usecols,\n\u001b[0;32m    157\u001b[0m             \u001b[38;5;28mself\u001b[39m\u001b[38;5;241m.\u001b[39mnames,  \u001b[38;5;66;03m# type: ignore[has-type]\u001b[39;00m\n\u001b[0;32m    158\u001b[0m         )\n\u001b[0;32m    160\u001b[0m \u001b[38;5;66;03m# error: Cannot determine type of 'names'\u001b[39;00m\n\u001b[1;32m--> 161\u001b[0m \u001b[38;5;28;43mself\u001b[39;49m\u001b[38;5;241;43m.\u001b[39;49m\u001b[43m_validate_parse_dates_presence\u001b[49m\u001b[43m(\u001b[49m\u001b[38;5;28;43mself\u001b[39;49m\u001b[38;5;241;43m.\u001b[39;49m\u001b[43mnames\u001b[49m\u001b[43m)\u001b[49m  \u001b[38;5;66;03m# type: ignore[has-type]\u001b[39;00m\n\u001b[0;32m    162\u001b[0m \u001b[38;5;28mself\u001b[39m\u001b[38;5;241m.\u001b[39m_set_noconvert_columns()\n\u001b[0;32m    164\u001b[0m \u001b[38;5;66;03m# error: Cannot determine type of 'names'\u001b[39;00m\n",
            "File \u001b[1;32mc:\\Users\\ISHMO_CT\\.conda\\envs\\Kaggle_proj\\Lib\\site-packages\\pandas\\io\\parsers\\base_parser.py:242\u001b[0m, in \u001b[0;36mParserBase._validate_parse_dates_presence\u001b[1;34m(self, columns)\u001b[0m\n\u001b[0;32m    232\u001b[0m missing_cols \u001b[38;5;241m=\u001b[39m \u001b[38;5;124m\"\u001b[39m\u001b[38;5;124m, \u001b[39m\u001b[38;5;124m\"\u001b[39m\u001b[38;5;241m.\u001b[39mjoin(\n\u001b[0;32m    233\u001b[0m     \u001b[38;5;28msorted\u001b[39m(\n\u001b[0;32m    234\u001b[0m         {\n\u001b[1;32m   (...)\u001b[0m\n\u001b[0;32m    239\u001b[0m     )\n\u001b[0;32m    240\u001b[0m )\n\u001b[0;32m    241\u001b[0m \u001b[38;5;28;01mif\u001b[39;00m missing_cols:\n\u001b[1;32m--> 242\u001b[0m     \u001b[38;5;28;01mraise\u001b[39;00m \u001b[38;5;167;01mValueError\u001b[39;00m(\n\u001b[0;32m    243\u001b[0m         \u001b[38;5;124mf\u001b[39m\u001b[38;5;124m\"\u001b[39m\u001b[38;5;124mMissing column provided to \u001b[39m\u001b[38;5;124m'\u001b[39m\u001b[38;5;124mparse_dates\u001b[39m\u001b[38;5;124m'\u001b[39m\u001b[38;5;124m: \u001b[39m\u001b[38;5;124m'\u001b[39m\u001b[38;5;132;01m{\u001b[39;00mmissing_cols\u001b[38;5;132;01m}\u001b[39;00m\u001b[38;5;124m'\u001b[39m\u001b[38;5;124m\"\u001b[39m\n\u001b[0;32m    244\u001b[0m     )\n\u001b[0;32m    245\u001b[0m \u001b[38;5;66;03m# Convert positions to actual column names\u001b[39;00m\n\u001b[0;32m    246\u001b[0m \u001b[38;5;28;01mreturn\u001b[39;00m [\n\u001b[0;32m    247\u001b[0m     col \u001b[38;5;28;01mif\u001b[39;00m (\u001b[38;5;28misinstance\u001b[39m(col, \u001b[38;5;28mstr\u001b[39m) \u001b[38;5;129;01mor\u001b[39;00m col \u001b[38;5;129;01min\u001b[39;00m columns) \u001b[38;5;28;01melse\u001b[39;00m columns[col]\n\u001b[0;32m    248\u001b[0m     \u001b[38;5;28;01mfor\u001b[39;00m col \u001b[38;5;129;01min\u001b[39;00m cols_needed\n\u001b[0;32m    249\u001b[0m ]\n",
            "\u001b[1;31mValueError\u001b[0m: Missing column provided to 'parse_dates': 'issued'"
          ]
        }
      ],
      "source": [
        "def wrangle(filepath):\n",
        "\n",
        "\n",
        "  # Set issue date to index\n",
        "  df = pd.read_csv(filepath, parse_dates=['issued'], index_col='issued').sort_index()\n",
        "\n",
        "  # subset data to 36-month loans\n",
        "  mask = df['term'].str.strip() == '36 months' # removing space between \" \" and 36 in the column\n",
        "  df = df[mask]\n",
        "  df.drop(columns='term', inplace=True)\n",
        "\n",
        "\n",
        "  # Turn `'int_rate'` col into float\n",
        "  df['int_rate'] = df['int_rate'].str.strip(' %').astype(float)\n",
        "\n",
        "\n",
        "  # Consolidate and OHE loan purpose (`'title'`)\n",
        "  keywords = ['business', 'consolidation|credit', 'home', 'car|vacation|medical|moving']\n",
        "  for col in keywords:\n",
        "    df[col] = (df['title']\n",
        "               .fillna('')\n",
        "               .str.lower()\n",
        "               .str.contains(col, regex =True)\n",
        "               .astype(int))\n",
        "\n",
        "\n",
        "\n",
        "  columns_to_keep = keywords + ['annual_inc','funded_amnt','int_rate','fico_range_high']\n",
        "  df = df[columns_to_keep]\n",
        "\n",
        "  # Rename columns\n",
        "  # df.rename(columns={'annual_inc': 'annual_income',\n",
        "  #                   'business': 'purpose_business',\n",
        "  #                   'car|vacation|medical|moving': 'purpose_major_purchase',\n",
        "  #                   'consolidation|credit': 'purpose_consolidation',\n",
        "  #                   'fico_range_high': 'credit_score',\n",
        "  #                   'funded_amnt': 'loan_amount',\n",
        "  #                   'home': 'purpose_home_purchase',\n",
        "  #                   'int_rate': 'interest_rate'}, inplace=True)\n",
        "  return df\n",
        "\n",
        "df = wrangle(DATA_PATH+'lending-club/lending-club-subset.csv')"
      ]
    },
    {
      "cell_type": "markdown",
      "metadata": {
        "id": "ayCEM4ZAoZie"
      },
      "source": [
        "# II. Split Data"
      ]
    },
    {
      "cell_type": "code",
      "execution_count": null,
      "metadata": {
        "id": "P6ODJcGu7c9i"
      },
      "outputs": [],
      "source": [
        "# Split our data in feature matrix and target vector\n",
        "target = 'interest_rate'\n",
        "X = df.drop(columns=target)\n",
        "y = df[target]\n"
      ]
    },
    {
      "cell_type": "code",
      "execution_count": null,
      "metadata": {
        "id": "GwYIgcAw69H6"
      },
      "outputs": [],
      "source": [
        "# Split data into training, validation, test sets\n",
        "# Because this is datetime data, we'll do a cutoff\n",
        "# sort_index is the key here! take tail as test data!\n",
        "\n",
        "# numpy array slicing syntax\n",
        "X_train, y_train = X[:-20_000], y[:-20_000]\n",
        "X_val, y_val = X[:-20_000:-10_000], y[:-20_000:-10_000]\n",
        "X_test, y_test = X[:-10_000], y[-10_000]\n",
        "X_train.info()\n"
      ]
    },
    {
      "cell_type": "markdown",
      "metadata": {
        "id": "gqrH6lRSoZif"
      },
      "source": [
        "# III. Establish Baseline"
      ]
    },
    {
      "cell_type": "code",
      "execution_count": null,
      "metadata": {
        "id": "ZrikGbdu7hkR"
      },
      "outputs": [],
      "source": [
        "from sklearn.metrics import mean_absolute_error\n",
        "print('Mean interest rate:', y_train.mean())\n",
        "\n",
        "y_pred = [y_train.mean()] * len(y_train)\n",
        "print('Baseline MAE:', mean_absolute_error(y_train, y_pred))"
      ]
    },
    {
      "cell_type": "markdown",
      "metadata": {
        "id": "2abFXVsboZig"
      },
      "source": [
        "# IV. Build Model"
      ]
    },
    {
      "cell_type": "code",
      "execution_count": null,
      "metadata": {
        "id": "9MWu-_5D7Hqp"
      },
      "outputs": [],
      "source": [
        "# not using any pipelines\n",
        "\n",
        "model_lr = LinearRegression()\n",
        "model_r = Ridge()\n",
        "model_rf = RandomForestRegressor(random_state=42, n_jobs=-1)\n",
        "model_xgb = XGBRegressor(random_state=42, n_jobs=-1)"
      ]
    },
    {
      "cell_type": "code",
      "execution_count": null,
      "metadata": {
        "id": "_0h0GJnP7HR7"
      },
      "outputs": [],
      "source": [
        "model_lr.fit(X_train, y_train)\n",
        "model_r.fit(X_train, y_train)\n",
        "model_rf.fit(X_train, y_train)\n",
        "model_xgb.fit(X_train, y_train)"
      ]
    },
    {
      "cell_type": "markdown",
      "metadata": {
        "id": "-LTSYPUboZig"
      },
      "source": [
        "# V. Check Metrics"
      ]
    },
    {
      "cell_type": "code",
      "execution_count": null,
      "metadata": {
        "id": "SBnUEWBf7MwK"
      },
      "outputs": [],
      "source": [
        "def check_metrics(model):\n",
        "  print('Training MAE:', mean_absolute_error(y_train, model.predict(X_train)))\n",
        "  print('Validation MAE:', mean_absolute_error(y_val, model.predict(X_val)))\n",
        "  print('Validation R^2:', model.score(X_val, y_val))\n",
        "  print()\n",
        "  print()\n",
        "\n",
        "models = [model_lr, model_r, model_rf, model_xgb]\n",
        "\n",
        "for m in models:\n",
        "  check_metrics(m)"
      ]
    },
    {
      "cell_type": "markdown",
      "metadata": {
        "id": "waBHeyreoZih"
      },
      "source": [
        "# VI. Communicate Results"
      ]
    },
    {
      "cell_type": "code",
      "execution_count": null,
      "metadata": {
        "id": "T_jKQIe0bSGi"
      },
      "outputs": [],
      "source": [
        "coefficients =\n",
        "coef = pd.DataFrame(data=coefficients, index=X_train.columns,columns=['coefficients'])\n",
        "coef['coefficients'].sort_values().plot(kind='barh')\n",
        "plt.title('Linear Regression Coefficients')\n",
        "plt.show()"
      ]
    },
    {
      "cell_type": "code",
      "execution_count": null,
      "metadata": {
        "id": "p9Skt3KUbR-a"
      },
      "outputs": [],
      "source": [
        "importances =\n",
        "imp = pd.DataFrame(data=importances, index=X_train.columns, columns=['coefficients'])\n",
        "imp['coefficients'].sort_values().plot(kind='barh')\n",
        "plt.title('XGBoost Feature Importances')\n",
        "plt.show()"
      ]
    },
    {
      "cell_type": "code",
      "execution_count": null,
      "metadata": {
        "id": "YtG_r6NoPVYM"
      },
      "outputs": [],
      "source": [
        "from sklearn.tree import plot_tree\n",
        "\n",
        "plt.figure(figsize=(60,15))\n",
        "\n",
        "plot_tree(\n",
        "\n",
        "     max_depth=2,\n",
        "     feature_names=X_train.columns,\n",
        "     filled=True\n",
        ");"
      ]
    },
    {
      "cell_type": "markdown",
      "metadata": {
        "id": "sWAJrgt6bPjS"
      },
      "source": [
        "## Partial Dependence Plots\n",
        "\n",
        "One Feature"
      ]
    },
    {
      "cell_type": "code",
      "execution_count": null,
      "metadata": {
        "id": "ANwXpDR9jeNB"
      },
      "outputs": [],
      "source": [
        "# select one feature"
      ]
    },
    {
      "cell_type": "code",
      "execution_count": null,
      "metadata": {
        "id": "f4HPtLSOjeDp"
      },
      "outputs": [],
      "source": [
        "# create an instance of PDP Isolate."
      ]
    },
    {
      "cell_type": "markdown",
      "metadata": {
        "id": "YqYmdAEPoZii"
      },
      "source": [
        "Two features"
      ]
    },
    {
      "cell_type": "code",
      "execution_count": null,
      "metadata": {
        "id": "d3Y7mlkLjfPL"
      },
      "outputs": [],
      "source": [
        "# select two features"
      ]
    },
    {
      "cell_type": "code",
      "execution_count": null,
      "metadata": {
        "id": "N1Bcs81bjfKh"
      },
      "outputs": [],
      "source": [
        "# create an instance of PDP Interact.\n"
      ]
    },
    {
      "cell_type": "markdown",
      "metadata": {
        "id": "WZL2FvK5oZii"
      },
      "source": [
        "## Shapley Plots"
      ]
    },
    {
      "cell_type": "code",
      "execution_count": null,
      "metadata": {
        "id": "qXFMJCQsliNh"
      },
      "outputs": [],
      "source": [
        "#select one sample/observation"
      ]
    },
    {
      "cell_type": "code",
      "execution_count": null,
      "metadata": {
        "id": "Da8rNcHdlila"
      },
      "outputs": [],
      "source": [
        "# Shapley Force Plot\n",
        "# This may not work well in local notebooks\n",
        "# you may need to install ipywidgets\n",
        "\n",
        "#initialization of java script\n",
        "\n"
      ]
    },
    {
      "cell_type": "code",
      "execution_count": null,
      "metadata": {
        "ExecuteTime": {
          "end_time": "2023-07-10T13:59:30.172778Z",
          "start_time": "2023-07-10T13:59:08.778478Z"
        },
        "id": "6ji7o-Uoliip"
      },
      "outputs": [],
      "source": []
    },
    {
      "cell_type": "code",
      "execution_count": null,
      "metadata": {
        "id": "s_cuCmr9liRS"
      },
      "outputs": [],
      "source": []
    }
  ],
  "metadata": {
    "colab": {
      "provenance": []
    },
    "kernelspec": {
      "display_name": "Python 3",
      "language": "python",
      "name": "python3"
    },
    "language_info": {
      "codemirror_mode": {
        "name": "ipython",
        "version": 3
      },
      "file_extension": ".py",
      "mimetype": "text/x-python",
      "name": "python",
      "nbconvert_exporter": "python",
      "pygments_lexer": "ipython3",
      "version": "3.11.7"
    }
  },
  "nbformat": 4,
  "nbformat_minor": 0
}
